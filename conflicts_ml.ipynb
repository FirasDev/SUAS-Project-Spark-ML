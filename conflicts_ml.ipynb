{
 "cells": [
  {
   "cell_type": "code",
   "execution_count": 1,
   "metadata": {},
   "outputs": [],
   "source": [
    "from pyspark.sql import SparkSession\n",
    "from pyspark.sql.functions import *\n",
    "\n",
    "spark = SparkSession \\\n",
    "    .builder \\\n",
    "    .appName('Titanic Data') \\\n",
    "    .getOrCreate()"
   ]
  },
  {
   "cell_type": "code",
   "execution_count": 31,
   "metadata": {},
   "outputs": [
    {
     "data": {
      "text/html": [
       "\n",
       "            <div>\n",
       "                <p><b>SparkSession - hive</b></p>\n",
       "                \n",
       "        <div>\n",
       "            <p><b>SparkContext</b></p>\n",
       "\n",
       "            <p><a href=\"http://localhost.localdomain:4042\">Spark UI</a></p>\n",
       "\n",
       "            <dl>\n",
       "              <dt>Version</dt>\n",
       "                <dd><code>v3.0.1</code></dd>\n",
       "              <dt>Master</dt>\n",
       "                <dd><code>local[*]</code></dd>\n",
       "              <dt>AppName</dt>\n",
       "                <dd><code>PySparkShell</code></dd>\n",
       "            </dl>\n",
       "        </div>\n",
       "        \n",
       "            </div>\n",
       "        "
      ],
      "text/plain": [
       "<pyspark.sql.session.SparkSession at 0x7f81a34b45e0>"
      ]
     },
     "execution_count": 31,
     "metadata": {},
     "output_type": "execute_result"
    }
   ],
   "source": [
    "spark"
   ]
  },
  {
   "cell_type": "code",
   "execution_count": 32,
   "metadata": {},
   "outputs": [],
   "source": [
    "df = (spark.read\n",
    "          .format(\"csv\")\n",
    "          .option('header', 'true')\n",
    "          .load(\"conflicts.csv\"))"
   ]
  },
  {
   "cell_type": "code",
   "execution_count": 33,
   "metadata": {},
   "outputs": [
    {
     "name": "stdout",
     "output_type": "stream",
     "text": [
      "+---+---+----------+----------+--------------------+--------------------+-------------+--------------------+-------------+-----------+---------------+-------+---------+------------+-----------+-----------------+--------------------+----------+\n",
      "|_c0|ISO|EVENT_DATE|EVENT_TYPE|      SUB_EVENT_TYPE|              ACTOR1|ASSOC_ACTOR_1|              ACTOR2|ASSOC_ACTOR_2|INTERACTION|         REGION|COUNTRY|   ADMIN1|      ADMIN2|   LOCATION|           SOURCE|               NOTES|FATALITIES|\n",
      "+---+---+----------+----------+--------------------+--------------------+-------------+--------------------+-------------+-----------+---------------+-------+---------+------------+-----------+-----------------+--------------------+----------+\n",
      "|  0| 12|2010-12-20|   Battles|         Armed clash|Military Forces o...|         null|Unidentified Arme...|         null|         13|Northern Africa|Algeria|Boumerdes|       Ammal|Ait Dahmane|      TSA Algerie|A militant was ca...|         0|\n",
      "|  1| 12|2010-12-25|     Riots|Violent demonstra...|Police Forces of ...|         null|   Rioters (Algeria)|         null|         15|Northern Africa|Algeria|    Alger|Sidi M'Hamed|    Algiers|Liberte (Algeria)|Riots broke out i...|         0|\n",
      "|  2| 12|2010-12-26|   Battles|         Armed clash|AQIM: Al Qaeda in...|         null|Military Forces o...|         null|         12|Northern Africa|Algeria|    Jijel|       Jijel|      Jijel|           Xinhua|Two AQLMI militan...|         2|\n",
      "+---+---+----------+----------+--------------------+--------------------+-------------+--------------------+-------------+-----------+---------------+-------+---------+------------+-----------+-----------------+--------------------+----------+\n",
      "only showing top 3 rows\n",
      "\n"
     ]
    }
   ],
   "source": [
    "df.show(3)"
   ]
  },
  {
   "cell_type": "code",
   "execution_count": 34,
   "metadata": {
    "scrolled": true
   },
   "outputs": [
    {
     "data": {
      "text/plain": [
       "[('_c0', 'string'),\n",
       " ('ISO', 'string'),\n",
       " ('EVENT_DATE', 'string'),\n",
       " ('EVENT_TYPE', 'string'),\n",
       " ('SUB_EVENT_TYPE', 'string'),\n",
       " ('ACTOR1', 'string'),\n",
       " ('ASSOC_ACTOR_1', 'string'),\n",
       " ('ACTOR2', 'string'),\n",
       " ('ASSOC_ACTOR_2', 'string'),\n",
       " ('INTERACTION', 'string'),\n",
       " ('REGION', 'string'),\n",
       " ('COUNTRY', 'string'),\n",
       " ('ADMIN1', 'string'),\n",
       " ('ADMIN2', 'string'),\n",
       " ('LOCATION', 'string'),\n",
       " ('SOURCE', 'string'),\n",
       " ('NOTES', 'string'),\n",
       " ('FATALITIES', 'string')]"
      ]
     },
     "execution_count": 34,
     "metadata": {},
     "output_type": "execute_result"
    }
   ],
   "source": [
    "df.dtypes"
   ]
  },
  {
   "cell_type": "code",
   "execution_count": 35,
   "metadata": {},
   "outputs": [
    {
     "data": {
      "text/html": [
       "<div>\n",
       "<style scoped>\n",
       "    .dataframe tbody tr th:only-of-type {\n",
       "        vertical-align: middle;\n",
       "    }\n",
       "\n",
       "    .dataframe tbody tr th {\n",
       "        vertical-align: top;\n",
       "    }\n",
       "\n",
       "    .dataframe thead th {\n",
       "        text-align: right;\n",
       "    }\n",
       "</style>\n",
       "<table border=\"1\" class=\"dataframe\">\n",
       "  <thead>\n",
       "    <tr style=\"text-align: right;\">\n",
       "      <th></th>\n",
       "      <th>summary</th>\n",
       "      <th>_c0</th>\n",
       "      <th>ISO</th>\n",
       "      <th>EVENT_DATE</th>\n",
       "      <th>EVENT_TYPE</th>\n",
       "      <th>SUB_EVENT_TYPE</th>\n",
       "      <th>ACTOR1</th>\n",
       "      <th>ASSOC_ACTOR_1</th>\n",
       "      <th>ACTOR2</th>\n",
       "      <th>ASSOC_ACTOR_2</th>\n",
       "      <th>INTERACTION</th>\n",
       "      <th>REGION</th>\n",
       "      <th>COUNTRY</th>\n",
       "      <th>ADMIN1</th>\n",
       "      <th>ADMIN2</th>\n",
       "      <th>LOCATION</th>\n",
       "      <th>SOURCE</th>\n",
       "      <th>NOTES</th>\n",
       "      <th>FATALITIES</th>\n",
       "    </tr>\n",
       "  </thead>\n",
       "  <tbody>\n",
       "    <tr>\n",
       "      <th>0</th>\n",
       "      <td>count</td>\n",
       "      <td>170578</td>\n",
       "      <td>170578</td>\n",
       "      <td>170578</td>\n",
       "      <td>170578</td>\n",
       "      <td>170578</td>\n",
       "      <td>170578</td>\n",
       "      <td>44078</td>\n",
       "      <td>120235</td>\n",
       "      <td>31630</td>\n",
       "      <td>170578</td>\n",
       "      <td>170578</td>\n",
       "      <td>170578</td>\n",
       "      <td>170578</td>\n",
       "      <td>170497</td>\n",
       "      <td>170578</td>\n",
       "      <td>170578</td>\n",
       "      <td>170569</td>\n",
       "      <td>170578</td>\n",
       "    </tr>\n",
       "    <tr>\n",
       "      <th>1</th>\n",
       "      <td>mean</td>\n",
       "      <td>85288.5</td>\n",
       "      <td>524.649925547257</td>\n",
       "      <td>None</td>\n",
       "      <td>None</td>\n",
       "      <td>None</td>\n",
       "      <td>None</td>\n",
       "      <td>None</td>\n",
       "      <td>None</td>\n",
       "      <td>None</td>\n",
       "      <td>34.586605541160054</td>\n",
       "      <td>None</td>\n",
       "      <td>None</td>\n",
       "      <td>None</td>\n",
       "      <td>None</td>\n",
       "      <td>None</td>\n",
       "      <td>None</td>\n",
       "      <td>None</td>\n",
       "      <td>1.7503019146666041</td>\n",
       "    </tr>\n",
       "    <tr>\n",
       "      <th>2</th>\n",
       "      <td>stddev</td>\n",
       "      <td>49241.77144626975</td>\n",
       "      <td>251.68053502042525</td>\n",
       "      <td>None</td>\n",
       "      <td>None</td>\n",
       "      <td>None</td>\n",
       "      <td>None</td>\n",
       "      <td>None</td>\n",
       "      <td>None</td>\n",
       "      <td>None</td>\n",
       "      <td>19.07524097084693</td>\n",
       "      <td>None</td>\n",
       "      <td>None</td>\n",
       "      <td>None</td>\n",
       "      <td>None</td>\n",
       "      <td>None</td>\n",
       "      <td>None</td>\n",
       "      <td>None</td>\n",
       "      <td>9.874958100076823</td>\n",
       "    </tr>\n",
       "    <tr>\n",
       "      <th>3</th>\n",
       "      <td>min</td>\n",
       "      <td>0</td>\n",
       "      <td>108</td>\n",
       "      <td>2010-12-18</td>\n",
       "      <td>Battles</td>\n",
       "      <td>Abduction/forced disappearance</td>\n",
       "      <td>101 Battalion (Tajoura)</td>\n",
       "      <td>#1980FMZ: Freedom Movement Zimbabwe</td>\n",
       "      <td>3rd Brigade</td>\n",
       "      <td>#EndSARS</td>\n",
       "      <td>10</td>\n",
       "      <td>Eastern Africa</td>\n",
       "      <td>Algeria</td>\n",
       "      <td>Abia</td>\n",
       "      <td>10 Ramadan 1</td>\n",
       "      <td>1 de Maio</td>\n",
       "      <td>1847 Post</td>\n",
       "      <td>250 child soldiers recruited by the South Sud...</td>\n",
       "      <td>0</td>\n",
       "    </tr>\n",
       "    <tr>\n",
       "      <th>4</th>\n",
       "      <td>max</td>\n",
       "      <td>99999</td>\n",
       "      <td>894</td>\n",
       "      <td>2020-10-24</td>\n",
       "      <td>Violence against civilians</td>\n",
       "      <td>Violent demonstration</td>\n",
       "      <td>Zwai Ethnic Militia (Libya)</td>\n",
       "      <td>the Moroccan Organization to support the Affai...</td>\n",
       "      <td>Zwai Ethnic Militia (Libya)</td>\n",
       "      <td>Zwai Ethnic Militia (Libya)</td>\n",
       "      <td>88</td>\n",
       "      <td>Western Africa</td>\n",
       "      <td>eSwatini</td>\n",
       "      <td>Zou</td>\n",
       "      <td>uThungulu</td>\n",
       "      <td>uMhlanga Rocks</td>\n",
       "      <td>iHarare</td>\n",
       "      <td>~800 Mai Mai militia members (possibly led by ...</td>\n",
       "      <td>99</td>\n",
       "    </tr>\n",
       "  </tbody>\n",
       "</table>\n",
       "</div>"
      ],
      "text/plain": [
       "  summary                _c0                 ISO  EVENT_DATE  \\\n",
       "0   count             170578              170578      170578   \n",
       "1    mean            85288.5    524.649925547257        None   \n",
       "2  stddev  49241.77144626975  251.68053502042525        None   \n",
       "3     min                  0                 108  2010-12-18   \n",
       "4     max              99999                 894  2020-10-24   \n",
       "\n",
       "                   EVENT_TYPE                  SUB_EVENT_TYPE  \\\n",
       "0                      170578                          170578   \n",
       "1                        None                            None   \n",
       "2                        None                            None   \n",
       "3                     Battles  Abduction/forced disappearance   \n",
       "4  Violence against civilians           Violent demonstration   \n",
       "\n",
       "                        ACTOR1  \\\n",
       "0                       170578   \n",
       "1                         None   \n",
       "2                         None   \n",
       "3      101 Battalion (Tajoura)   \n",
       "4  Zwai Ethnic Militia (Libya)   \n",
       "\n",
       "                                       ASSOC_ACTOR_1  \\\n",
       "0                                              44078   \n",
       "1                                               None   \n",
       "2                                               None   \n",
       "3                #1980FMZ: Freedom Movement Zimbabwe   \n",
       "4  the Moroccan Organization to support the Affai...   \n",
       "\n",
       "                        ACTOR2                ASSOC_ACTOR_2  \\\n",
       "0                       120235                        31630   \n",
       "1                         None                         None   \n",
       "2                         None                         None   \n",
       "3                  3rd Brigade                     #EndSARS   \n",
       "4  Zwai Ethnic Militia (Libya)  Zwai Ethnic Militia (Libya)   \n",
       "\n",
       "          INTERACTION          REGION   COUNTRY  ADMIN1        ADMIN2  \\\n",
       "0              170578          170578    170578  170578        170497   \n",
       "1  34.586605541160054            None      None    None          None   \n",
       "2   19.07524097084693            None      None    None          None   \n",
       "3                  10  Eastern Africa   Algeria    Abia  10 Ramadan 1   \n",
       "4                  88  Western Africa  eSwatini     Zou     uThungulu   \n",
       "\n",
       "         LOCATION     SOURCE  \\\n",
       "0          170578     170578   \n",
       "1            None       None   \n",
       "2            None       None   \n",
       "3       1 de Maio  1847 Post   \n",
       "4  uMhlanga Rocks    iHarare   \n",
       "\n",
       "                                               NOTES          FATALITIES  \n",
       "0                                             170569              170578  \n",
       "1                                               None  1.7503019146666041  \n",
       "2                                               None   9.874958100076823  \n",
       "3   250 child soldiers recruited by the South Sud...                   0  \n",
       "4  ~800 Mai Mai militia members (possibly led by ...                  99  "
      ]
     },
     "execution_count": 35,
     "metadata": {},
     "output_type": "execute_result"
    }
   ],
   "source": [
    "df.describe().toPandas()"
   ]
  },
  {
   "cell_type": "code",
   "execution_count": 36,
   "metadata": {},
   "outputs": [],
   "source": [
    "dataset = df.select(col('FATALITIES').cast('float'),\n",
    "                         col('INTERACTION').cast('float'),\n",
    "                         col('COUNTRY'),\n",
    "                         col('REGION'),\n",
    "                         col('ACTOR1'),\n",
    "                         col('ACTOR2'),\n",
    "                         col('EVENT_TYPE'),\n",
    "                        )"
   ]
  },
  {
   "cell_type": "code",
   "execution_count": 37,
   "metadata": {},
   "outputs": [
    {
     "name": "stdout",
     "output_type": "stream",
     "text": [
      "+----------+-----------+-------+---------------+--------------------+--------------------+----------+\n",
      "|FATALITIES|INTERACTION|COUNTRY|         REGION|              ACTOR1|              ACTOR2|EVENT_TYPE|\n",
      "+----------+-----------+-------+---------------+--------------------+--------------------+----------+\n",
      "|       0.0|       13.0|Algeria|Northern Africa|Military Forces o...|Unidentified Arme...|   Battles|\n",
      "+----------+-----------+-------+---------------+--------------------+--------------------+----------+\n",
      "only showing top 1 row\n",
      "\n"
     ]
    }
   ],
   "source": [
    "dataset.show(1)"
   ]
  },
  {
   "cell_type": "code",
   "execution_count": 38,
   "metadata": {},
   "outputs": [
    {
     "name": "stdout",
     "output_type": "stream",
     "text": [
      "+----------+-----------+-------+------+------+------+----------+\n",
      "|FATALITIES|INTERACTION|COUNTRY|REGION|ACTOR1|ACTOR2|EVENT_TYPE|\n",
      "+----------+-----------+-------+------+------+------+----------+\n",
      "|         0|          0|      0|     0|     0| 50343|         0|\n",
      "+----------+-----------+-------+------+------+------+----------+\n",
      "\n"
     ]
    }
   ],
   "source": [
    "dataset.select([count(when(isnull(c), c)).alias(c) for c in dataset.columns]).show()"
   ]
  },
  {
   "cell_type": "code",
   "execution_count": 39,
   "metadata": {},
   "outputs": [],
   "source": [
    "dataset = dataset.replace('?', None)\\\n",
    "        .dropna(how='any')"
   ]
  },
  {
   "cell_type": "code",
   "execution_count": 40,
   "metadata": {},
   "outputs": [
    {
     "name": "stdout",
     "output_type": "stream",
     "text": [
      "+----------+-----------+-------+---------------+--------------------+--------------------+----------+-------+-------+-----+-----+-----+-------+\n",
      "|FATALITIES|INTERACTION|COUNTRY|         REGION|              ACTOR1|              ACTOR2|EVENT_TYPE|INTERNO|COUNTNO|REGNO| ACT1| ACT2|EVENTNO|\n",
      "+----------+-----------+-------+---------------+--------------------+--------------------+----------+-------+-------+-----+-----+-----+-------+\n",
      "|       0.0|       13.0|Algeria|Northern Africa|Military Forces o...|Unidentified Arme...|   Battles|    2.0|   18.0|  1.0| 60.0| 69.0|    0.0|\n",
      "|       0.0|       15.0|Algeria|Northern Africa|Police Forces of ...|   Rioters (Algeria)|     Riots|    5.0|   18.0|  1.0|159.0|139.0|    2.0|\n",
      "+----------+-----------+-------+---------------+--------------------+--------------------+----------+-------+-------+-----+-----+-----+-------+\n",
      "only showing top 2 rows\n",
      "\n"
     ]
    }
   ],
   "source": [
    "from pyspark.ml.feature import StringIndexer\n",
    "dataset = StringIndexer(\n",
    "    inputCol='INTERACTION', \n",
    "    outputCol='INTERNO', \n",
    "    handleInvalid='keep').fit(dataset).transform(dataset)\n",
    "dataset = StringIndexer(\n",
    "    inputCol='COUNTRY', \n",
    "    outputCol='COUNTNO', \n",
    "    handleInvalid='keep').fit(dataset).transform(dataset)\n",
    "dataset = StringIndexer(\n",
    "    inputCol='REGION', \n",
    "    outputCol='REGNO', \n",
    "    handleInvalid='keep').fit(dataset).transform(dataset)\n",
    "dataset = StringIndexer(\n",
    "    inputCol='ACTOR1', \n",
    "    outputCol='ACT1', \n",
    "    handleInvalid='keep').fit(dataset).transform(dataset)\n",
    "dataset = StringIndexer(\n",
    "    inputCol='ACTOR2', \n",
    "    outputCol='ACT2', \n",
    "    handleInvalid='keep').fit(dataset).transform(dataset)\n",
    "dataset = StringIndexer(\n",
    "    inputCol='EVENT_TYPE', \n",
    "    outputCol='EVENTNO', \n",
    "    handleInvalid='keep').fit(dataset).transform(dataset)\n",
    "dataset.show(2)"
   ]
  },
  {
   "cell_type": "code",
   "execution_count": 66,
   "metadata": {},
   "outputs": [
    {
     "name": "stdout",
     "output_type": "stream",
     "text": [
      "+-------+-----+-----+-----+-------+\n",
      "|INTERNO|REGNO| ACT1| ACT2|EVENTNO|\n",
      "+-------+-----+-----+-----+-------+\n",
      "|    2.0|  1.0| 60.0| 69.0|    0.0|\n",
      "|    5.0|  1.0|159.0|139.0|    2.0|\n",
      "|    1.0|  1.0|141.0| 97.0|    0.0|\n",
      "|    5.0|  1.0|159.0|139.0|    2.0|\n",
      "|    5.0|  1.0|159.0|139.0|    2.0|\n",
      "|    5.0|  1.0| 82.0| 60.0|    2.0|\n",
      "|    5.0|  1.0|159.0|139.0|    2.0|\n",
      "|    2.0|  1.0|134.0| 97.0|    0.0|\n",
      "|    5.0|  1.0| 82.0| 60.0|    2.0|\n",
      "|    2.0|  1.0|134.0| 97.0|    0.0|\n",
      "|    8.0|  1.0| 82.0| 99.0|    2.0|\n",
      "|    5.0|  1.0| 82.0| 60.0|    2.0|\n",
      "|    5.0|  1.0|159.0|139.0|    2.0|\n",
      "|    5.0|  1.0| 82.0| 60.0|    2.0|\n",
      "|    5.0|  1.0| 82.0| 60.0|    2.0|\n",
      "|    5.0|  1.0| 82.0| 60.0|    2.0|\n",
      "|    5.0|  1.0|159.0|139.0|    2.0|\n",
      "|    5.0|  1.0|159.0|139.0|    2.0|\n",
      "|    5.0|  1.0| 82.0| 60.0|    2.0|\n",
      "|    5.0|  1.0| 82.0| 60.0|    2.0|\n",
      "+-------+-----+-----+-----+-------+\n",
      "only showing top 20 rows\n",
      "\n"
     ]
    }
   ],
   "source": [
    "# Drop unnecessary columns\n",
    "dataset = dataset.drop('COUNTRY')\n",
    "dataset = dataset.drop('INTERACTION')\n",
    "dataset = dataset.drop('REGION')\n",
    "dataset = dataset.drop('ACTOR1')\n",
    "dataset = dataset.drop('ACTOR2')\n",
    "dataset = dataset.drop('EVENT_TYPE')\n",
    "dataset = dataset.drop('LOCATION')\n",
    "dataset = dataset.drop('SOURCE')\n",
    "dataset = dataset.drop('COUNTNO')\n",
    "dataset = dataset.drop('FATALITIES')\n",
    "dataset.show()"
   ]
  },
  {
   "cell_type": "code",
   "execution_count": 67,
   "metadata": {},
   "outputs": [],
   "source": [
    "# Assemble all the features with VectorAssembler\n",
    "required_features = ['INTERNO',\n",
    "                    'REGNO',\n",
    "                    'ACT1',\n",
    "                     'ACT2',\n",
    "                   ]\n",
    "from pyspark.ml.feature import VectorAssembler\n",
    "\n",
    "assembler = VectorAssembler(inputCols=required_features,\n",
    "outputCol='features')\n",
    "transformed_data = assembler.transform(dataset)"
   ]
  },
  {
   "cell_type": "code",
   "execution_count": 68,
   "metadata": {},
   "outputs": [
    {
     "name": "stdout",
     "output_type": "stream",
     "text": [
      "+-------+-----+-----+-----+-------+--------------------+\n",
      "|INTERNO|REGNO| ACT1| ACT2|EVENTNO|            features|\n",
      "+-------+-----+-----+-----+-------+--------------------+\n",
      "|    2.0|  1.0| 60.0| 69.0|    0.0| [2.0,1.0,60.0,69.0]|\n",
      "|    5.0|  1.0|159.0|139.0|    2.0|[5.0,1.0,159.0,13...|\n",
      "|    1.0|  1.0|141.0| 97.0|    0.0|[1.0,1.0,141.0,97.0]|\n",
      "|    5.0|  1.0|159.0|139.0|    2.0|[5.0,1.0,159.0,13...|\n",
      "|    5.0|  1.0|159.0|139.0|    2.0|[5.0,1.0,159.0,13...|\n",
      "|    5.0|  1.0| 82.0| 60.0|    2.0| [5.0,1.0,82.0,60.0]|\n",
      "|    5.0|  1.0|159.0|139.0|    2.0|[5.0,1.0,159.0,13...|\n",
      "|    2.0|  1.0|134.0| 97.0|    0.0|[2.0,1.0,134.0,97.0]|\n",
      "|    5.0|  1.0| 82.0| 60.0|    2.0| [5.0,1.0,82.0,60.0]|\n",
      "|    2.0|  1.0|134.0| 97.0|    0.0|[2.0,1.0,134.0,97.0]|\n",
      "|    8.0|  1.0| 82.0| 99.0|    2.0| [8.0,1.0,82.0,99.0]|\n",
      "|    5.0|  1.0| 82.0| 60.0|    2.0| [5.0,1.0,82.0,60.0]|\n",
      "|    5.0|  1.0|159.0|139.0|    2.0|[5.0,1.0,159.0,13...|\n",
      "|    5.0|  1.0| 82.0| 60.0|    2.0| [5.0,1.0,82.0,60.0]|\n",
      "|    5.0|  1.0| 82.0| 60.0|    2.0| [5.0,1.0,82.0,60.0]|\n",
      "|    5.0|  1.0| 82.0| 60.0|    2.0| [5.0,1.0,82.0,60.0]|\n",
      "|    5.0|  1.0|159.0|139.0|    2.0|[5.0,1.0,159.0,13...|\n",
      "|    5.0|  1.0|159.0|139.0|    2.0|[5.0,1.0,159.0,13...|\n",
      "|    5.0|  1.0| 82.0| 60.0|    2.0| [5.0,1.0,82.0,60.0]|\n",
      "|    5.0|  1.0| 82.0| 60.0|    2.0| [5.0,1.0,82.0,60.0]|\n",
      "+-------+-----+-----+-----+-------+--------------------+\n",
      "only showing top 20 rows\n",
      "\n"
     ]
    }
   ],
   "source": [
    "transformed_data.show()"
   ]
  },
  {
   "cell_type": "code",
   "execution_count": 69,
   "metadata": {},
   "outputs": [],
   "source": [
    "(training_data, test_data) = transformed_data.randomSplit([0.8,0.2])"
   ]
  },
  {
   "cell_type": "code",
   "execution_count": 70,
   "metadata": {},
   "outputs": [],
   "source": [
    "from pyspark.ml.classification import RandomForestClassifier\n",
    "rf = RandomForestClassifier(labelCol='EVENTNO', \n",
    "                            featuresCol='features',\n",
    "                            maxBins=3589,\n",
    "                            maxDepth=5)"
   ]
  },
  {
   "cell_type": "code",
   "execution_count": 71,
   "metadata": {},
   "outputs": [],
   "source": [
    "model = rf.fit(training_data)"
   ]
  },
  {
   "cell_type": "code",
   "execution_count": 72,
   "metadata": {},
   "outputs": [],
   "source": [
    "predictions = model.transform(test_data)"
   ]
  },
  {
   "cell_type": "code",
   "execution_count": 75,
   "metadata": {},
   "outputs": [],
   "source": [
    "from pyspark.ml.evaluation import MulticlassClassificationEvaluator\n",
    "evaluator = MulticlassClassificationEvaluator(\n",
    "    labelCol='EVENTNO', \n",
    "    predictionCol='prediction', \n",
    "    metricName='accuracy')"
   ]
  },
  {
   "cell_type": "code",
   "execution_count": 76,
   "metadata": {},
   "outputs": [
    {
     "name": "stdout",
     "output_type": "stream",
     "text": [
      "Test Accuracy =  0.8135628456197248\n"
     ]
    }
   ],
   "source": [
    "accuracy = evaluator.evaluate(predictions)\n",
    "print('Test Accuracy = ', accuracy)"
   ]
  },
  {
   "cell_type": "code",
   "execution_count": 78,
   "metadata": {},
   "outputs": [
    {
     "data": {
      "image/png": "[encoded data removed]",
      "text/plain": [
       "<Figure size 432x288 with 1 Axes>"
      ]
     },
     "metadata": {
      "needs_background": "light"
     },
     "output_type": "display_data"
    }
   ],
   "source": [
    "import matplotlib.pyplot as plt\n",
    "from pyspark.ml.evaluation import RegressionEvaluator\n",
    "\n",
    "evaluator = RegressionEvaluator(labelCol=\"EVENTNO\", predictionCol=\"prediction\", metricName=\"rmse\")\n",
    "rmse = evaluator.evaluate(predictions)\n",
    "rfPred = model.transform(transformed_data)\n",
    "rfResult = rfPred.toPandas()\n",
    "plt.plot(rfResult.EVENTNO, rfResult.prediction, 'bo')\n",
    "plt.xlabel('EVENT_TYPE')\n",
    "plt.ylabel('Prediction')\n",
    "plt.suptitle(\"Model Performance RMSE: %f\" % rmse)\n",
    "plt.show()"
   ]
  },
  {
   "cell_type": "code",
   "execution_count": null,
   "metadata": {},
   "outputs": [],
   "source": []
  }
 ],
 "metadata": {
  "kernelspec": {
   "display_name": "Python 3",
   "language": "python",
   "name": "python3"
  },
  "language_info": {
   "codemirror_mode": {
    "name": "ipython",
    "version": 3
   },
   "file_extension": ".py",
   "mimetype": "text/x-python",
   "name": "python",
   "nbconvert_exporter": "python",
   "pygments_lexer": "ipython3",
   "version": "3.9.1"
  }
 },
 "nbformat": 4,
 "nbformat_minor": 4
}
